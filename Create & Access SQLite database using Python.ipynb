{
 "cells": [
  {
   "cell_type": "markdown",
   "id": "4f4c6c69-80f7-43f3-8bc6-ece3037b772c",
   "metadata": {},
   "source": [
    "Create database using SQLite"
   ]
  },
  {
   "cell_type": "code",
   "execution_count": 1,
   "id": "e519e69f-78d6-432b-b69a-53bbc45ada80",
   "metadata": {},
   "outputs": [],
   "source": [
    "#Install & load sqlite3\n",
    "#!pip install sqlite3  ##Uncomment the code to install sqlite3\n",
    "\n",
    "import sqlite3"
   ]
  },
  {
   "cell_type": "code",
   "execution_count": 2,
   "id": "21d2e96c-24a7-4242-98da-4560a2c10d57",
   "metadata": {},
   "outputs": [],
   "source": [
    "# Connecting to sqlite\n",
    "# connection object\n",
    "\n",
    "conn=sqlite3.connect('INSTRUCTOR.db')"
   ]
  },
  {
   "cell_type": "markdown",
   "id": "e8a93f81-819c-45a8-8534-94cbf71c586d",
   "metadata": {},
   "source": [
    "Cursor class is an instance using which you can invoke methods that execute SQLite statements, fetch data from the result sets of the queries. You can create Cursor object using the cursor() method of the Connection object/class."
   ]
  },
  {
   "cell_type": "code",
   "execution_count": 3,
   "id": "293f19f1-b89f-447f-9daa-b250e68da69a",
   "metadata": {},
   "outputs": [],
   "source": [
    "# cursor object\n",
    "\n",
    "cursor_obj=conn.cursor()"
   ]
  },
  {
   "cell_type": "markdown",
   "id": "45c625f1-9378-495f-bbab-d384c3e6cacf",
   "metadata": {},
   "source": [
    "Create a table in the database\n",
    "\n",
    "Before creating a table, let's first if the table already exist or not. To drop the table from a database use DROP query. A cursor is an object which helps to execute the query and fetch the records from the database."
   ]
  },
  {
   "cell_type": "code",
   "execution_count": 4,
   "id": "61c8dd40-583c-4750-bc86-da4ebd7e031f",
   "metadata": {},
   "outputs": [
    {
     "data": {
      "text/plain": [
       "<sqlite3.Cursor at 0x7efd00303180>"
      ]
     },
     "execution_count": 4,
     "metadata": {},
     "output_type": "execute_result"
    }
   ],
   "source": [
    "# Drop the table if already exists.\n",
    "\n",
    "cursor_obj.execute(\"DROP TABLE IF EXISTS INSTRUCTOR\")"
   ]
  },
  {
   "cell_type": "markdown",
   "id": "46c175fc-2a6b-469e-a354-d9a02f7e0fe3",
   "metadata": {},
   "source": [
    "If you see an exception/error similar to the following, indicating that INSTRUCTOR is an undefined name, that's okay. It just implies that the INSTRUCTOR table does not exist in the table - which would be the case if you had not created it previously.\n",
    "\n",
    "Exception: [IBM][CLI Driver][DB2/LINUXX8664] SQL0204N \"ABC12345.INSTRUCTOR\" is an undefined name. SQLSTATE=42704 SQLCODE=-204"
   ]
  },
  {
   "cell_type": "code",
   "execution_count": 5,
   "id": "2de3bf63-224c-4543-83c5-850ea9881f74",
   "metadata": {},
   "outputs": [
    {
     "name": "stdout",
     "output_type": "stream",
     "text": [
      "Table is Ready\n"
     ]
    }
   ],
   "source": [
    "# Creating table\n",
    "table = \"\"\" create table IF NOT EXISTS INSTRUCTOR(ID INTEGER PRIMARY KEY NOT NULL, FNAME VARCHAR(20), LNAME VARCHAR(20), CITY VARCHAR(20), CCODE CHAR(2));\"\"\"\n",
    " \n",
    "cursor_obj.execute(table)\n",
    " \n",
    "print(\"Table is Ready\")"
   ]
  },
  {
   "cell_type": "markdown",
   "id": "77c97934-6234-4f36-bb72-4a03740d130b",
   "metadata": {},
   "source": [
    "Insert data into the table"
   ]
  },
  {
   "cell_type": "code",
   "execution_count": 6,
   "id": "6dfeefda-2272-483c-a1bc-e7cffc6bbcb8",
   "metadata": {},
   "outputs": [
    {
     "data": {
      "text/plain": [
       "<sqlite3.Cursor at 0x7efd00303180>"
      ]
     },
     "execution_count": 6,
     "metadata": {},
     "output_type": "execute_result"
    }
   ],
   "source": [
    "cursor_obj.execute('''insert into INSTRUCTOR values (1, 'Rav', 'Ahuja', 'TORONTO', 'CA')''')"
   ]
  },
  {
   "cell_type": "markdown",
   "id": "ffff8ab7-3b3c-4292-90cc-32a81fdead5a",
   "metadata": {},
   "source": [
    "The output you will get something as: sqlite3.Cursor at 0x27a1a491260 which means mySql database has sqlite3.Cursor object at 0x27a1a49126 as output in table. But you may get the different number."
   ]
  },
  {
   "cell_type": "code",
   "execution_count": 7,
   "id": "b0bbf443-28ff-46f3-b6fb-0c0ab1ad4e71",
   "metadata": {},
   "outputs": [
    {
     "data": {
      "text/plain": [
       "<sqlite3.Cursor at 0x7efd00303180>"
      ]
     },
     "execution_count": 7,
     "metadata": {},
     "output_type": "execute_result"
    }
   ],
   "source": [
    "#Now use a single query to insert the remaining two rows of data\n",
    "\n",
    "cursor_obj.execute('''insert into INSTRUCTOR values(2, 'Raul', 'Chong', 'Markham', 'CA'),(3, 'Hima', 'Vasudevan', 'Chicago', 'US')''')"
   ]
  },
  {
   "cell_type": "markdown",
   "id": "b6f8cdd9-d95f-43f0-ae88-26f6ff84d047",
   "metadata": {},
   "source": [
    "Query data in the table\n",
    "\n",
    "In this step we will retrieve data we inserted into the INSTRUCTOR table."
   ]
  },
  {
   "cell_type": "code",
   "execution_count": 8,
   "id": "a528d308-8b97-4273-9cd7-747a78c8027e",
   "metadata": {},
   "outputs": [
    {
     "name": "stdout",
     "output_type": "stream",
     "text": [
      "All The Data\n",
      "(1, 'Rav', 'Ahuja', 'TORONTO', 'CA')\n",
      "(2, 'Raul', 'Chong', 'Markham', 'CA')\n",
      "(3, 'Hima', 'Vasudevan', 'Chicago', 'US')\n"
     ]
    }
   ],
   "source": [
    "statement='''SELECT * FROM INSTRUCTOR'''\n",
    "\n",
    "cursor_obj.execute(statement)\n",
    "\n",
    "print(\"All The Data\")\n",
    "\n",
    "output_all=cursor_obj.fetchall()\n",
    "for row_all in output_all:\n",
    "    print(row_all)"
   ]
  },
  {
   "cell_type": "code",
   "execution_count": 9,
   "id": "4de87174-673d-4332-aeee-6af25f1ba10d",
   "metadata": {},
   "outputs": [
    {
     "name": "stdout",
     "output_type": "stream",
     "text": [
      "All the data\n",
      "(1, 'Rav', 'Ahuja', 'TORONTO', 'CA')\n",
      "(2, 'Raul', 'Chong', 'Markham', 'CA')\n"
     ]
    }
   ],
   "source": [
    "## Fetch few rows from the table\n",
    "statement = '''SELECT * FROM INSTRUCTOR'''\n",
    "cursor_obj.execute(statement)\n",
    "  \n",
    "print(\"All the data\")\n",
    "# If you want to fetch few rows from the table we use fetchmany(numberofrows) and mention the number how many rows you want to fetch\n",
    "output_many = cursor_obj.fetchmany(2) \n",
    "for row_many in output_many:\n",
    "  print(row_many)"
   ]
  },
  {
   "cell_type": "code",
   "execution_count": 10,
   "id": "afefe677-4f60-4435-902e-066cd4cf1d38",
   "metadata": {},
   "outputs": [
    {
     "name": "stdout",
     "output_type": "stream",
     "text": [
      "All the data\n",
      "('Rav',)\n",
      "('Raul',)\n",
      "('Hima',)\n"
     ]
    }
   ],
   "source": [
    "# Fetch only FNAME from the table\n",
    "statement = \"SELECT FNAME FROM INSTRUCTOR\"\n",
    "cursor_obj.execute(statement)\n",
    "  \n",
    "print(\"All the data\")\n",
    "output_column = cursor_obj.fetchall()\n",
    "for fetch in output_column:\n",
    "  print(fetch)"
   ]
  },
  {
   "cell_type": "markdown",
   "id": "4deae09f-c567-4e7c-8ac4-f3beed5ff08a",
   "metadata": {},
   "source": [
    "Execute an Update statement that changes the Rav's CITY to MOOSETOWN"
   ]
  },
  {
   "cell_type": "code",
   "execution_count": 11,
   "id": "a1be342d-425a-463f-a1e4-a60753b74547",
   "metadata": {},
   "outputs": [
    {
     "data": {
      "text/plain": [
       "<sqlite3.Cursor at 0x7efd00303180>"
      ]
     },
     "execution_count": 11,
     "metadata": {},
     "output_type": "execute_result"
    }
   ],
   "source": [
    "query_update='''update INSTRUCTOR set CITY='MOOSETOWN' where FNAME=\"Rav\"'''\n",
    "cursor_obj.execute(query_update)"
   ]
  },
  {
   "cell_type": "code",
   "execution_count": 12,
   "id": "2d87d022-37e2-4863-be62-29367190b8a9",
   "metadata": {},
   "outputs": [
    {
     "name": "stdout",
     "output_type": "stream",
     "text": [
      "All the data\n",
      "(1, 'Rav', 'Ahuja', 'MOOSETOWN', 'CA')\n",
      "(2, 'Raul', 'Chong', 'Markham', 'CA')\n"
     ]
    }
   ],
   "source": [
    "statement = '''SELECT * FROM INSTRUCTOR'''\n",
    "cursor_obj.execute(statement)\n",
    "  \n",
    "print(\"All the data\")\n",
    "output1 = cursor_obj.fetchmany(2)\n",
    "for row in output1:\n",
    "  print(row)"
   ]
  },
  {
   "cell_type": "markdown",
   "id": "ed4011c7-b1fc-48f9-808a-3585100f09e5",
   "metadata": {},
   "source": [
    "Retrieve data into Pandas\n",
    "\n",
    "In this step we will retrieve the contents of the INSTRUCTOR table into a Pandas dataframe"
   ]
  },
  {
   "cell_type": "code",
   "execution_count": 13,
   "id": "4fac857b-c7d8-4b37-857d-965f339045ae",
   "metadata": {},
   "outputs": [
    {
     "data": {
      "text/html": [
       "<div>\n",
       "<style scoped>\n",
       "    .dataframe tbody tr th:only-of-type {\n",
       "        vertical-align: middle;\n",
       "    }\n",
       "\n",
       "    .dataframe tbody tr th {\n",
       "        vertical-align: top;\n",
       "    }\n",
       "\n",
       "    .dataframe thead th {\n",
       "        text-align: right;\n",
       "    }\n",
       "</style>\n",
       "<table border=\"1\" class=\"dataframe\">\n",
       "  <thead>\n",
       "    <tr style=\"text-align: right;\">\n",
       "      <th></th>\n",
       "      <th>ID</th>\n",
       "      <th>FNAME</th>\n",
       "      <th>LNAME</th>\n",
       "      <th>CITY</th>\n",
       "      <th>CCODE</th>\n",
       "    </tr>\n",
       "  </thead>\n",
       "  <tbody>\n",
       "    <tr>\n",
       "      <th>0</th>\n",
       "      <td>1</td>\n",
       "      <td>Rav</td>\n",
       "      <td>Ahuja</td>\n",
       "      <td>MOOSETOWN</td>\n",
       "      <td>CA</td>\n",
       "    </tr>\n",
       "    <tr>\n",
       "      <th>1</th>\n",
       "      <td>2</td>\n",
       "      <td>Raul</td>\n",
       "      <td>Chong</td>\n",
       "      <td>Markham</td>\n",
       "      <td>CA</td>\n",
       "    </tr>\n",
       "    <tr>\n",
       "      <th>2</th>\n",
       "      <td>3</td>\n",
       "      <td>Hima</td>\n",
       "      <td>Vasudevan</td>\n",
       "      <td>Chicago</td>\n",
       "      <td>US</td>\n",
       "    </tr>\n",
       "  </tbody>\n",
       "</table>\n",
       "</div>"
      ],
      "text/plain": [
       "   ID FNAME      LNAME       CITY CCODE\n",
       "0   1   Rav      Ahuja  MOOSETOWN    CA\n",
       "1   2  Raul      Chong    Markham    CA\n",
       "2   3  Hima  Vasudevan    Chicago    US"
      ]
     },
     "execution_count": 13,
     "metadata": {},
     "output_type": "execute_result"
    }
   ],
   "source": [
    "import pandas as pd\n",
    "\n",
    "#retrieve the query results into a pandas dataframe\n",
    "\n",
    "df=pd.read_sql_query(\"select * from INSTRUCTOR\", conn)\n",
    "df"
   ]
  },
  {
   "cell_type": "code",
   "execution_count": 14,
   "id": "2cbd4960-ce49-4fd8-9f15-1ca117a58802",
   "metadata": {},
   "outputs": [
    {
     "data": {
      "text/plain": [
       "'Ahuja'"
      ]
     },
     "execution_count": 14,
     "metadata": {},
     "output_type": "execute_result"
    }
   ],
   "source": [
    "#print just the LNAME for first row in the pandas data frame\n",
    "\n",
    "df.LNAME[0]"
   ]
  },
  {
   "cell_type": "code",
   "execution_count": 15,
   "id": "736cacbc-8f98-4e10-a097-695046bd9233",
   "metadata": {},
   "outputs": [
    {
     "data": {
      "text/plain": [
       "'US'"
      ]
     },
     "execution_count": 15,
     "metadata": {},
     "output_type": "execute_result"
    }
   ],
   "source": [
    "df.CCODE[2]"
   ]
  },
  {
   "cell_type": "code",
   "execution_count": 16,
   "id": "2cefec14-0fca-46d9-8fd7-24c0e847b9df",
   "metadata": {},
   "outputs": [
    {
     "data": {
      "text/plain": [
       "(3, 5)"
      ]
     },
     "execution_count": 16,
     "metadata": {},
     "output_type": "execute_result"
    }
   ],
   "source": [
    "#shape method to see how many rows and columns are in the dataframe\n",
    "\n",
    "df.shape"
   ]
  },
  {
   "cell_type": "code",
   "execution_count": 17,
   "id": "d1bfe226-88cd-4c52-b2e1-f2ecfe4b2a63",
   "metadata": {},
   "outputs": [],
   "source": [
    "# Close the connection\n",
    "\n",
    "conn.close()"
   ]
  },
  {
   "cell_type": "code",
   "execution_count": null,
   "id": "c322487d-2dd0-4e34-a7dd-32ea897008f4",
   "metadata": {},
   "outputs": [],
   "source": []
  }
 ],
 "metadata": {
  "kernelspec": {
   "display_name": "Python",
   "language": "python",
   "name": "conda-env-python-py"
  },
  "language_info": {
   "codemirror_mode": {
    "name": "ipython",
    "version": 3
   },
   "file_extension": ".py",
   "mimetype": "text/x-python",
   "name": "python",
   "nbconvert_exporter": "python",
   "pygments_lexer": "ipython3",
   "version": "3.7.12"
  }
 },
 "nbformat": 4,
 "nbformat_minor": 5
}
